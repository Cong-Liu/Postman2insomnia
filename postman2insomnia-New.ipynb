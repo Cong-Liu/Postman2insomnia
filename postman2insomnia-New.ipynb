{
 "cells": [
  {
   "cell_type": "markdown",
   "metadata": {
    "scrolled": true
   },
   "source": [
    "##Readme\n",
    "\n",
    "### 1. install Python3 and pandas. Using Jupyther IDE is recommended. \n",
    "### 2. Edit var `filelist` for the file path.\n",
    "### 3. Run all cells."
   ]
  },
  {
   "cell_type": "code",
   "execution_count": 1,
   "metadata": {},
   "outputs": [],
   "source": [
    "import json \n",
    "import pandas as pd \n",
    "import glob\n",
    "from pandas.io.json import json_normalize #package for flattening json in pandas df\n",
    "def readJson(fn = 'phi/UAT.postman_environment.json'):\n",
    "    with open(fn) as f:\n",
    "        d = json.load(f)\n",
    "    nycphil = json_normalize(d['values'])\n",
    "    newJson = nycphil[['key','value']]\n",
    "    newJson['key'] = newJson['key'].str.replace('-','_')\n",
    "    newJson['key'] = newJson['key'].str.replace(' ', '_')\n",
    "    return newJson\n",
    "\n"
   ]
  },
  {
   "cell_type": "code",
   "execution_count": null,
   "metadata": {
    "scrolled": true
   },
   "outputs": [],
   "source": []
  },
  {
   "cell_type": "code",
   "execution_count": 2,
   "metadata": {},
   "outputs": [],
   "source": [
    "def generateJson(insJson):\n",
    "    result = insJson.transpose().to_json(orient='records')[1:-1].replace('\"key\":','').replace(',\"value\"',\"\").replace('},{',',')\n",
    "    return result\n"
   ]
  },
  {
   "cell_type": "code",
   "execution_count": 3,
   "metadata": {},
   "outputs": [],
   "source": [
    "def writeToFile(result, fn = 'staging_env.json'):\n",
    "    with open(fn,'w') as f:\n",
    "        f.write(result)\n"
   ]
  },
  {
   "cell_type": "code",
   "execution_count": null,
   "metadata": {},
   "outputs": [],
   "source": [
    "\n",
    "if __name__ == '__main__':\n",
    "    filelist = glob.glob('phi/*.postman_environment.json')\n",
    "    for f in filelist:\n",
    "        file_to_read = f\n",
    "        file_to_write = 'insomnia_'+f\n",
    "        print(\"\\nreading from: \" + file_to_read)\n",
    "        print(\"writing into file: \" + file_to_write)\n",
    "        newJson = readJson(fn=file_to_read)\n",
    "        result = generateJson(newJson)\n",
    "        writeToFile(result,fn=file_to_write)"
   ]
  },
  {
   "cell_type": "code",
   "execution_count": null,
   "metadata": {},
   "outputs": [],
   "source": []
  }
 ],
 "metadata": {
  "kernelspec": {
   "display_name": "Python 3",
   "language": "python",
   "name": "python3"
  },
  "language_info": {
   "codemirror_mode": {
    "name": "ipython",
    "version": 3
   },
   "file_extension": ".py",
   "mimetype": "text/x-python",
   "name": "python",
   "nbconvert_exporter": "python",
   "pygments_lexer": "ipython3",
   "version": "3.6.5"
  }
 },
 "nbformat": 4,
 "nbformat_minor": 2
}
